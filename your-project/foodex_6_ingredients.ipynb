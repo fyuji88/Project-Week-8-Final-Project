{
 "cells": [
  {
   "cell_type": "code",
   "execution_count": 1,
   "metadata": {},
   "outputs": [],
   "source": [
    "import numpy as np\n",
    "import tensorflow as tf\n",
    "from tensorflow import keras\n",
    "from tensorflow.keras.models import Sequential\n",
    "from tensorflow.keras.layers import Activation, Dense, Flatten, BatchNormalization, Conv2D, MaxPool2D\n",
    "from tensorflow.keras.optimizers import Adam, SGD\n",
    "from tensorflow.keras.metrics import categorical_crossentropy\n",
    "from tensorflow.keras.preprocessing.image import ImageDataGenerator\n",
    "from sklearn.metrics import confusion_matrix\n",
    "import itertools\n",
    "import os\n",
    "import shutil\n",
    "import random\n",
    "import glob\n",
    "import matplotlib.pyplot as plt\n",
    "import warnings\n",
    "warnings.simplefilter(action = 'ignore', category = FutureWarning)\n",
    "%matplotlib inline"
   ]
  },
  {
   "cell_type": "markdown",
   "metadata": {},
   "source": [
    "# something to do with the GPU, not sure WHAT\n",
    "# if you are not using a GPU that shouldn't be necessary\n",
    "# not sure if I am using one....\n",
    "  \n",
    "physical_devices = tf.config.experimental.list_physical_devices('GPU')\n",
    "print('Num GPUs Available:', len(physical_devices))\n",
    "tf.config.experimental.set_memory_growth(physical_devices[0],True)"
   ]
  },
  {
   "cell_type": "markdown",
   "metadata": {},
   "source": [
    "# Data division and preprocessing\n",
    "We need to divide our data in 3:\n",
    "1) **Train** (77%)\n",
    "\n",
    "2) **Validation** (15%)\n",
    "\n",
    "3) **Test** (8%)\n",
    "\n",
    "In each one we divide the data between diseased and healthy.\n",
    "<br>\n",
    "So, we should end up with train, validation and test of diseased plants and the same for healthy."
   ]
  },
  {
   "cell_type": "markdown",
   "metadata": {},
   "source": [
    "# if you have all the labeled images mixed you can apply the following code\n",
    "\n",
    "# Organize data into train, valid, test dirs\n",
    "\n",
    "os.chdir('../data/train')\n",
    "if os.path.isdir('train/dog') is False:\n",
    "    os.makedirs('train/dog')\n",
    "    os.makedirs('train/cat')\n",
    "    os.makedirs('valid/dog')\n",
    "    os.makedirs('valid/cat')\n",
    "    os.makedirs('test/dog')\n",
    "    os.makedirs('test/cat')\n",
    "\n",
    "    for i in random.sample(glob.glob('cat*'), 500):\n",
    "        shutil.move(i, 'train/cat')      \n",
    "    for i in random.sample(glob.glob('dog*'), 500):\n",
    "        shutil.move(i, 'train/dog')\n",
    "    for i in random.sample(glob.glob('cat*'), 100):\n",
    "        shutil.move(i, 'valid/cat')        \n",
    "    for i in random.sample(glob.glob('dog*'), 100):\n",
    "        shutil.move(i, 'valid/dog')\n",
    "    for i in random.sample(glob.glob('cat*'), 50):\n",
    "        shutil.move(i, 'test/cat')      \n",
    "    for i in random.sample(glob.glob('dog*'), 50):\n",
    "        shutil.move(i, 'test/dog')\n",
    "\n",
    "os.chdir('../../')"
   ]
  },
  {
   "cell_type": "markdown",
   "metadata": {},
   "source": [
    "### What do you need to do differenty if your test data has no labels???\n",
    "\n",
    "In the case where you do not know the labels for the test data, in the directory it will have a folder named unknown instead of one with cats/dogs or healthy/unhealthy. \n",
    "<br>\n",
    "Moreover, you will need to modify the test_batches variable. Specifically, the change will be to set the parameters classes = None and class_mode = None in flow_from_directory()\n",
    "\n",
    "```test_batches = ImageDataGenerator(preprocessing_function=tf.keras.applications.vgg16.preprocess_input)test_batches = ImageDataGenerator(preprocessing_function=tf.keras.applications.vgg16.preprocess_input)`\\\n",
    "flow_from_directory(directory=test_path, target_size=(224,224), classes=None, batch_size = 10)```"
   ]
  },
  {
   "cell_type": "markdown",
   "metadata": {},
   "source": [
    "## Data renaming (labeling)"
   ]
  },
  {
   "cell_type": "code",
   "execution_count": 2,
   "metadata": {},
   "outputs": [
    {
     "data": {
      "text/plain": [
       "'C:\\\\Users\\\\Usuario\\\\Desktop\\\\IH_finalproject\\\\Project-Week-8-Final-Project_fyuji\\\\your-project'"
      ]
     },
     "execution_count": 2,
     "metadata": {},
     "output_type": "execute_result"
    }
   ],
   "source": [
    "os.getcwd()"
   ]
  },
  {
   "cell_type": "markdown",
   "metadata": {},
   "source": [
    "### Rename all files"
   ]
  },
  {
   "cell_type": "code",
   "execution_count": 3,
   "metadata": {},
   "outputs": [
    {
     "data": {
      "text/plain": [
       "[(0, 'chicken_0.jpg'),\n",
       " (1, 'chicken_1.jpg'),\n",
       " (2, 'chicken_10.jpg'),\n",
       " (3, 'chicken_100.jpg'),\n",
       " (4, 'chicken_101.jpg'),\n",
       " (5, 'chicken_102.jpg'),\n",
       " (6, 'chicken_103.jpg'),\n",
       " (7, 'chicken_104.jpg'),\n",
       " (8, 'chicken_105.jpg'),\n",
       " (9, 'chicken_106.jpg'),\n",
       " (10, 'chicken_107.jpg'),\n",
       " (11, 'chicken_108.jpg'),\n",
       " (12, 'chicken_109.jpg'),\n",
       " (13, 'chicken_11.jpg'),\n",
       " (14, 'chicken_110.jpg'),\n",
       " (15, 'chicken_111.jpg'),\n",
       " (16, 'chicken_112.jpg'),\n",
       " (17, 'chicken_113.jpg'),\n",
       " (18, 'chicken_114.jpg'),\n",
       " (19, 'chicken_115.jpg'),\n",
       " (20, 'chicken_116.jpg'),\n",
       " (21, 'chicken_117.jpg'),\n",
       " (22, 'chicken_118.jpg'),\n",
       " (23, 'chicken_119.jpg'),\n",
       " (24, 'chicken_12.jpg'),\n",
       " (25, 'chicken_120.jpg'),\n",
       " (26, 'chicken_121.jpg'),\n",
       " (27, 'chicken_122.jpg'),\n",
       " (28, 'chicken_123.jpg'),\n",
       " (29, 'chicken_124.jpg'),\n",
       " (30, 'chicken_125.jpg'),\n",
       " (31, 'chicken_126.jpg'),\n",
       " (32, 'chicken_127.jpg'),\n",
       " (33, 'chicken_128.jpg'),\n",
       " (34, 'chicken_129.jpg'),\n",
       " (35, 'chicken_13.jpg'),\n",
       " (36, 'chicken_130.jpg'),\n",
       " (37, 'chicken_131.jpg'),\n",
       " (38, 'chicken_132.jpg'),\n",
       " (39, 'chicken_133.jpg'),\n",
       " (40, 'chicken_134.jpg'),\n",
       " (41, 'chicken_135.jpg'),\n",
       " (42, 'chicken_14.jpg'),\n",
       " (43, 'chicken_15.jpg'),\n",
       " (44, 'chicken_16.jpg'),\n",
       " (45, 'chicken_17.jpg'),\n",
       " (46, 'chicken_18.jpg'),\n",
       " (47, 'chicken_19.jpg'),\n",
       " (48, 'chicken_2.jpg'),\n",
       " (49, 'chicken_20.jpg'),\n",
       " (50, 'chicken_21.jpg'),\n",
       " (51, 'chicken_22.jpg'),\n",
       " (52, 'chicken_23.jpg'),\n",
       " (53, 'chicken_24.jpg'),\n",
       " (54, 'chicken_25.jpg'),\n",
       " (55, 'chicken_26.jpg'),\n",
       " (56, 'chicken_27.jpg'),\n",
       " (57, 'chicken_28.jpg'),\n",
       " (58, 'chicken_29.jpg'),\n",
       " (59, 'chicken_3.jpg'),\n",
       " (60, 'chicken_30.jpg'),\n",
       " (61, 'chicken_31.jpg'),\n",
       " (62, 'chicken_32.jpg'),\n",
       " (63, 'chicken_33.jpg'),\n",
       " (64, 'chicken_34.jpg'),\n",
       " (65, 'chicken_35.jpg'),\n",
       " (66, 'chicken_36.jpg'),\n",
       " (67, 'chicken_37.jpg'),\n",
       " (68, 'chicken_38.jpg'),\n",
       " (69, 'chicken_39.jpg'),\n",
       " (70, 'chicken_4.jpg'),\n",
       " (71, 'chicken_40.jpg'),\n",
       " (72, 'chicken_41.jpg'),\n",
       " (73, 'chicken_42.jpg'),\n",
       " (74, 'chicken_43.jpg'),\n",
       " (75, 'chicken_44.jpg'),\n",
       " (76, 'chicken_45.jpg'),\n",
       " (77, 'chicken_46.jpg'),\n",
       " (78, 'chicken_47.jpg'),\n",
       " (79, 'chicken_48.jpg'),\n",
       " (80, 'chicken_49.jpg'),\n",
       " (81, 'chicken_5.jpg'),\n",
       " (82, 'chicken_50.jpg'),\n",
       " (83, 'chicken_51.jpg'),\n",
       " (84, 'chicken_52.jpg'),\n",
       " (85, 'chicken_53.jpg'),\n",
       " (86, 'chicken_54.jpg'),\n",
       " (87, 'chicken_55.jpg'),\n",
       " (88, 'chicken_56.jpg'),\n",
       " (89, 'chicken_57.jpg'),\n",
       " (90, 'chicken_58.jpg'),\n",
       " (91, 'chicken_59.jpg'),\n",
       " (92, 'chicken_6.jpg'),\n",
       " (93, 'chicken_60.jpg'),\n",
       " (94, 'chicken_61.jpg'),\n",
       " (95, 'chicken_62.jpg'),\n",
       " (96, 'chicken_63.jpg'),\n",
       " (97, 'chicken_64.jpg'),\n",
       " (98, 'chicken_65.jpg'),\n",
       " (99, 'chicken_66.jpg'),\n",
       " (100, 'chicken_67.jpg'),\n",
       " (101, 'chicken_68.jpg'),\n",
       " (102, 'chicken_69.jpg'),\n",
       " (103, 'chicken_7.jpg'),\n",
       " (104, 'chicken_70.jpg'),\n",
       " (105, 'chicken_71.jpg'),\n",
       " (106, 'chicken_72.jpg'),\n",
       " (107, 'chicken_73.jpg'),\n",
       " (108, 'chicken_74.jpg'),\n",
       " (109, 'chicken_75.jpg'),\n",
       " (110, 'chicken_76.jpg'),\n",
       " (111, 'chicken_77.jpg'),\n",
       " (112, 'chicken_78.jpg'),\n",
       " (113, 'chicken_79.jpg'),\n",
       " (114, 'chicken_8.jpg'),\n",
       " (115, 'chicken_80.jpg'),\n",
       " (116, 'chicken_81.jpg'),\n",
       " (117, 'chicken_82.jpg'),\n",
       " (118, 'chicken_83.jpg'),\n",
       " (119, 'chicken_84.jpg'),\n",
       " (120, 'chicken_85.jpg'),\n",
       " (121, 'chicken_86.jpg'),\n",
       " (122, 'chicken_87.jpg'),\n",
       " (123, 'chicken_88.jpg'),\n",
       " (124, 'chicken_89.jpg'),\n",
       " (125, 'chicken_9.jpg'),\n",
       " (126, 'chicken_90.jpg'),\n",
       " (127, 'chicken_91.jpg'),\n",
       " (128, 'chicken_92.jpg'),\n",
       " (129, 'chicken_93.jpg'),\n",
       " (130, 'chicken_94.jpg'),\n",
       " (131, 'chicken_95.jpg'),\n",
       " (132, 'chicken_96.jpg'),\n",
       " (133, 'chicken_97.jpg'),\n",
       " (134, 'chicken_98.jpg'),\n",
       " (135, 'chicken_99.jpg')]"
      ]
     },
     "execution_count": 3,
     "metadata": {},
     "output_type": "execute_result"
    }
   ],
   "source": [
    "# checking the old names\n",
    "list(enumerate(os.listdir('C:\\\\Users\\\\Usuario\\\\Desktop\\\\IH_finalproject\\\\Project-Week-8-Final-Project_fyuji\\\\data\\\\chicken')))"
   ]
  },
  {
   "cell_type": "code",
   "execution_count": 4,
   "metadata": {},
   "outputs": [
    {
     "ename": "FileExistsError",
     "evalue": "[WinError 183] No se puede crear un archivo que ya existe: '../data/avocados/avocados_10.jpg' -> '../data/avocados/avocados_2.jpg'",
     "output_type": "error",
     "traceback": [
      "\u001b[1;31m---------------------------------------------------------------------------\u001b[0m",
      "\u001b[1;31mFileExistsError\u001b[0m                           Traceback (most recent call last)",
      "\u001b[1;32m<ipython-input-4-b36cd7e72920>\u001b[0m in \u001b[0;36m<module>\u001b[1;34m\u001b[0m\n\u001b[0;32m     26\u001b[0m \u001b[1;33m\u001b[0m\u001b[0m\n\u001b[0;32m     27\u001b[0m     \u001b[1;32mfor\u001b[0m \u001b[0mi\u001b[0m \u001b[1;32min\u001b[0m \u001b[0mingredients_list\u001b[0m\u001b[1;33m:\u001b[0m\u001b[1;33m\u001b[0m\u001b[1;33m\u001b[0m\u001b[0m\n\u001b[1;32m---> 28\u001b[1;33m         \u001b[0mmain\u001b[0m\u001b[1;33m(\u001b[0m\u001b[0mi\u001b[0m\u001b[1;33m)\u001b[0m\u001b[1;33m\u001b[0m\u001b[1;33m\u001b[0m\u001b[0m\n\u001b[0m",
      "\u001b[1;32m<ipython-input-4-b36cd7e72920>\u001b[0m in \u001b[0;36mmain\u001b[1;34m(x)\u001b[0m\n\u001b[0;32m     18\u001b[0m         \u001b[1;31m# rename() function will\u001b[0m\u001b[1;33m\u001b[0m\u001b[1;33m\u001b[0m\u001b[1;33m\u001b[0m\u001b[0m\n\u001b[0;32m     19\u001b[0m         \u001b[1;31m# rename all the files\u001b[0m\u001b[1;33m\u001b[0m\u001b[1;33m\u001b[0m\u001b[1;33m\u001b[0m\u001b[0m\n\u001b[1;32m---> 20\u001b[1;33m         \u001b[0mos\u001b[0m\u001b[1;33m.\u001b[0m\u001b[0mrename\u001b[0m\u001b[1;33m(\u001b[0m\u001b[0msrc\u001b[0m\u001b[1;33m,\u001b[0m \u001b[0mdst\u001b[0m\u001b[1;33m)\u001b[0m\u001b[1;33m\u001b[0m\u001b[1;33m\u001b[0m\u001b[0m\n\u001b[0m\u001b[0;32m     21\u001b[0m \u001b[1;33m\u001b[0m\u001b[0m\n\u001b[0;32m     22\u001b[0m \u001b[1;31m# Driver Code\u001b[0m\u001b[1;33m\u001b[0m\u001b[1;33m\u001b[0m\u001b[1;33m\u001b[0m\u001b[0m\n",
      "\u001b[1;31mFileExistsError\u001b[0m: [WinError 183] No se puede crear un archivo que ya existe: '../data/avocados/avocados_10.jpg' -> '../data/avocados/avocados_2.jpg'"
     ]
    }
   ],
   "source": [
    "# rename the files for the trial \n",
    "# files in a directory or folder \n",
    "\n",
    "os.chdir('C:\\\\Users\\\\Usuario\\\\Desktop\\\\IH_finalproject\\\\Project-Week-8-Final-Project_fyuji\\\\your-project')\n",
    "\n",
    "\n",
    "# importing os module \n",
    "import os \n",
    "  \n",
    "# Function to rename multiple files \n",
    "def main(x): \n",
    "  \n",
    "    for count, filename in enumerate(os.listdir(f'../data/{x}')): \n",
    "        root = f'../data/{x}'\n",
    "        src = root +'/'+ filename \n",
    "        dst =root + f\"/{x}_\" + str(count) + \".jpg\"\n",
    "          \n",
    "        # rename() function will \n",
    "        # rename all the files \n",
    "        os.rename(src, dst) \n",
    "\n",
    "# Driver Code \n",
    "if __name__ == '__main__':\n",
    "\n",
    "    ingredients_list = [\"avocados\",\"banana\",\"boniato\",\"brocolli\",\"chicken\",\"eggs\",\"spinach\"]\n",
    "\n",
    "    for i in ingredients_list:\n",
    "        main(i)"
   ]
  },
  {
   "cell_type": "code",
   "execution_count": 5,
   "metadata": {},
   "outputs": [
    {
     "ename": "FileExistsError",
     "evalue": "[WinError 183] No se puede crear un archivo que ya existe: '../data/spinach/spinach_10.jpg' -> '../data/spinach/spinach_2.jpg'",
     "output_type": "error",
     "traceback": [
      "\u001b[1;31m---------------------------------------------------------------------------\u001b[0m",
      "\u001b[1;31mFileExistsError\u001b[0m                           Traceback (most recent call last)",
      "\u001b[1;32m<ipython-input-5-4fb16c0e44a1>\u001b[0m in \u001b[0;36m<module>\u001b[1;34m\u001b[0m\n\u001b[1;32m----> 1\u001b[1;33m \u001b[0mmain\u001b[0m\u001b[1;33m(\u001b[0m\u001b[1;34m\"spinach\"\u001b[0m\u001b[1;33m)\u001b[0m\u001b[1;33m\u001b[0m\u001b[1;33m\u001b[0m\u001b[0m\n\u001b[0m",
      "\u001b[1;32m<ipython-input-4-b36cd7e72920>\u001b[0m in \u001b[0;36mmain\u001b[1;34m(x)\u001b[0m\n\u001b[0;32m     18\u001b[0m         \u001b[1;31m# rename() function will\u001b[0m\u001b[1;33m\u001b[0m\u001b[1;33m\u001b[0m\u001b[1;33m\u001b[0m\u001b[0m\n\u001b[0;32m     19\u001b[0m         \u001b[1;31m# rename all the files\u001b[0m\u001b[1;33m\u001b[0m\u001b[1;33m\u001b[0m\u001b[1;33m\u001b[0m\u001b[0m\n\u001b[1;32m---> 20\u001b[1;33m         \u001b[0mos\u001b[0m\u001b[1;33m.\u001b[0m\u001b[0mrename\u001b[0m\u001b[1;33m(\u001b[0m\u001b[0msrc\u001b[0m\u001b[1;33m,\u001b[0m \u001b[0mdst\u001b[0m\u001b[1;33m)\u001b[0m\u001b[1;33m\u001b[0m\u001b[1;33m\u001b[0m\u001b[0m\n\u001b[0m\u001b[0;32m     21\u001b[0m \u001b[1;33m\u001b[0m\u001b[0m\n\u001b[0;32m     22\u001b[0m \u001b[1;31m# Driver Code\u001b[0m\u001b[1;33m\u001b[0m\u001b[1;33m\u001b[0m\u001b[1;33m\u001b[0m\u001b[0m\n",
      "\u001b[1;31mFileExistsError\u001b[0m: [WinError 183] No se puede crear un archivo que ya existe: '../data/spinach/spinach_10.jpg' -> '../data/spinach/spinach_2.jpg'"
     ]
    }
   ],
   "source": [
    "main(\"spinach\")"
   ]
  },
  {
   "cell_type": "code",
   "execution_count": 6,
   "metadata": {},
   "outputs": [
    {
     "data": {
      "text/plain": [
       "[(0, 'chicken_0.jpg'),\n",
       " (1, 'chicken_1.jpg'),\n",
       " (2, 'chicken_10.jpg'),\n",
       " (3, 'chicken_100.jpg'),\n",
       " (4, 'chicken_101.jpg'),\n",
       " (5, 'chicken_102.jpg'),\n",
       " (6, 'chicken_103.jpg'),\n",
       " (7, 'chicken_104.jpg'),\n",
       " (8, 'chicken_105.jpg'),\n",
       " (9, 'chicken_106.jpg'),\n",
       " (10, 'chicken_107.jpg'),\n",
       " (11, 'chicken_108.jpg'),\n",
       " (12, 'chicken_109.jpg'),\n",
       " (13, 'chicken_11.jpg'),\n",
       " (14, 'chicken_110.jpg'),\n",
       " (15, 'chicken_111.jpg'),\n",
       " (16, 'chicken_112.jpg'),\n",
       " (17, 'chicken_113.jpg'),\n",
       " (18, 'chicken_114.jpg'),\n",
       " (19, 'chicken_115.jpg'),\n",
       " (20, 'chicken_116.jpg'),\n",
       " (21, 'chicken_117.jpg'),\n",
       " (22, 'chicken_118.jpg'),\n",
       " (23, 'chicken_119.jpg'),\n",
       " (24, 'chicken_12.jpg'),\n",
       " (25, 'chicken_120.jpg'),\n",
       " (26, 'chicken_121.jpg'),\n",
       " (27, 'chicken_122.jpg'),\n",
       " (28, 'chicken_123.jpg'),\n",
       " (29, 'chicken_124.jpg'),\n",
       " (30, 'chicken_125.jpg'),\n",
       " (31, 'chicken_126.jpg'),\n",
       " (32, 'chicken_127.jpg'),\n",
       " (33, 'chicken_128.jpg'),\n",
       " (34, 'chicken_129.jpg'),\n",
       " (35, 'chicken_13.jpg'),\n",
       " (36, 'chicken_130.jpg'),\n",
       " (37, 'chicken_131.jpg'),\n",
       " (38, 'chicken_132.jpg'),\n",
       " (39, 'chicken_133.jpg'),\n",
       " (40, 'chicken_134.jpg'),\n",
       " (41, 'chicken_135.jpg'),\n",
       " (42, 'chicken_14.jpg'),\n",
       " (43, 'chicken_15.jpg'),\n",
       " (44, 'chicken_16.jpg'),\n",
       " (45, 'chicken_17.jpg'),\n",
       " (46, 'chicken_18.jpg'),\n",
       " (47, 'chicken_19.jpg'),\n",
       " (48, 'chicken_2.jpg'),\n",
       " (49, 'chicken_20.jpg'),\n",
       " (50, 'chicken_21.jpg'),\n",
       " (51, 'chicken_22.jpg'),\n",
       " (52, 'chicken_23.jpg'),\n",
       " (53, 'chicken_24.jpg'),\n",
       " (54, 'chicken_25.jpg'),\n",
       " (55, 'chicken_26.jpg'),\n",
       " (56, 'chicken_27.jpg'),\n",
       " (57, 'chicken_28.jpg'),\n",
       " (58, 'chicken_29.jpg'),\n",
       " (59, 'chicken_3.jpg'),\n",
       " (60, 'chicken_30.jpg'),\n",
       " (61, 'chicken_31.jpg'),\n",
       " (62, 'chicken_32.jpg'),\n",
       " (63, 'chicken_33.jpg'),\n",
       " (64, 'chicken_34.jpg'),\n",
       " (65, 'chicken_35.jpg'),\n",
       " (66, 'chicken_36.jpg'),\n",
       " (67, 'chicken_37.jpg'),\n",
       " (68, 'chicken_38.jpg'),\n",
       " (69, 'chicken_39.jpg'),\n",
       " (70, 'chicken_4.jpg'),\n",
       " (71, 'chicken_40.jpg'),\n",
       " (72, 'chicken_41.jpg'),\n",
       " (73, 'chicken_42.jpg'),\n",
       " (74, 'chicken_43.jpg'),\n",
       " (75, 'chicken_44.jpg'),\n",
       " (76, 'chicken_45.jpg'),\n",
       " (77, 'chicken_46.jpg'),\n",
       " (78, 'chicken_47.jpg'),\n",
       " (79, 'chicken_48.jpg'),\n",
       " (80, 'chicken_49.jpg'),\n",
       " (81, 'chicken_5.jpg'),\n",
       " (82, 'chicken_50.jpg'),\n",
       " (83, 'chicken_51.jpg'),\n",
       " (84, 'chicken_52.jpg'),\n",
       " (85, 'chicken_53.jpg'),\n",
       " (86, 'chicken_54.jpg'),\n",
       " (87, 'chicken_55.jpg'),\n",
       " (88, 'chicken_56.jpg'),\n",
       " (89, 'chicken_57.jpg'),\n",
       " (90, 'chicken_58.jpg'),\n",
       " (91, 'chicken_59.jpg'),\n",
       " (92, 'chicken_6.jpg'),\n",
       " (93, 'chicken_60.jpg'),\n",
       " (94, 'chicken_61.jpg'),\n",
       " (95, 'chicken_62.jpg'),\n",
       " (96, 'chicken_63.jpg'),\n",
       " (97, 'chicken_64.jpg'),\n",
       " (98, 'chicken_65.jpg'),\n",
       " (99, 'chicken_66.jpg'),\n",
       " (100, 'chicken_67.jpg'),\n",
       " (101, 'chicken_68.jpg'),\n",
       " (102, 'chicken_69.jpg'),\n",
       " (103, 'chicken_7.jpg'),\n",
       " (104, 'chicken_70.jpg'),\n",
       " (105, 'chicken_71.jpg'),\n",
       " (106, 'chicken_72.jpg'),\n",
       " (107, 'chicken_73.jpg'),\n",
       " (108, 'chicken_74.jpg'),\n",
       " (109, 'chicken_75.jpg'),\n",
       " (110, 'chicken_76.jpg'),\n",
       " (111, 'chicken_77.jpg'),\n",
       " (112, 'chicken_78.jpg'),\n",
       " (113, 'chicken_79.jpg'),\n",
       " (114, 'chicken_8.jpg'),\n",
       " (115, 'chicken_80.jpg'),\n",
       " (116, 'chicken_81.jpg'),\n",
       " (117, 'chicken_82.jpg'),\n",
       " (118, 'chicken_83.jpg'),\n",
       " (119, 'chicken_84.jpg'),\n",
       " (120, 'chicken_85.jpg'),\n",
       " (121, 'chicken_86.jpg'),\n",
       " (122, 'chicken_87.jpg'),\n",
       " (123, 'chicken_88.jpg'),\n",
       " (124, 'chicken_89.jpg'),\n",
       " (125, 'chicken_9.jpg'),\n",
       " (126, 'chicken_90.jpg'),\n",
       " (127, 'chicken_91.jpg'),\n",
       " (128, 'chicken_92.jpg'),\n",
       " (129, 'chicken_93.jpg'),\n",
       " (130, 'chicken_94.jpg'),\n",
       " (131, 'chicken_95.jpg'),\n",
       " (132, 'chicken_96.jpg'),\n",
       " (133, 'chicken_97.jpg'),\n",
       " (134, 'chicken_98.jpg'),\n",
       " (135, 'chicken_99.jpg')]"
      ]
     },
     "execution_count": 6,
     "metadata": {},
     "output_type": "execute_result"
    }
   ],
   "source": [
    "# Did the renaming work?\n",
    "list(enumerate(os.listdir('../data/chicken')))\n",
    "\n",
    "#YES IT FUCKING DID\n"
   ]
  },
  {
   "cell_type": "markdown",
   "metadata": {},
   "source": [
    "### Not Chicken \n",
    "(we repeat the same process)"
   ]
  },
  {
   "cell_type": "markdown",
   "metadata": {},
   "source": [
    "# Train-Test Split"
   ]
  },
  {
   "cell_type": "code",
   "execution_count": null,
   "metadata": {},
   "outputs": [],
   "source": [
    "os.listdir('/Users/Usuario/Desktop/IH_finalproject/Project-Week-8-Final-Project_fyuji/data/train')"
   ]
  },
  {
   "cell_type": "code",
   "execution_count": null,
   "metadata": {
    "scrolled": true
   },
   "outputs": [],
   "source": [
    "os.chdir('/Users/Usuario/Desktop/IH_finalproject/Project-Week-8-Final-Project_fyuji/data/mixed')\n",
    "retval = os.getcwd()\n",
    "print (\"Current working directory %s\" % retval)"
   ]
  },
  {
   "cell_type": "code",
   "execution_count": null,
   "metadata": {},
   "outputs": [],
   "source": [
    "glob.glob('chicken*')"
   ]
  },
  {
   "cell_type": "markdown",
   "metadata": {},
   "source": [
    "### Data selection (sample)\n",
    "We select a sample of the data just to have a look if the model works"
   ]
  },
  {
   "cell_type": "code",
   "execution_count": null,
   "metadata": {},
   "outputs": [],
   "source": [
    "# if you have all the labeled images mixed you can apply the following code\n",
    "\n",
    "# Organize data into train, valid, test dirs\n",
    "\n",
    "os.chdir('/Users/Usuario/Desktop/IH_finalproject/Project-Week-8-Final-Project_fyuji/data')\n",
    "if os.path.isdir('train/chicken') is False:\n",
    "    os.makedirs('train/chicken')\n",
    "    os.makedirs('train/other')\n",
    "    os.makedirs('valid/chicken')\n",
    "    os.makedirs('valid/other')\n",
    "    os.makedirs('test/chicken')\n",
    "    os.makedirs('test/other')\n",
    "\n",
    "\n",
    "os.chdir('../../')"
   ]
  },
  {
   "cell_type": "code",
   "execution_count": null,
   "metadata": {},
   "outputs": [],
   "source": [
    "ingredients_list\n"
   ]
  },
  {
   "cell_type": "code",
   "execution_count": null,
   "metadata": {},
   "outputs": [],
   "source": [
    "os.chdir('/Users/Usuario/Desktop/IH_finalproject/Project-Week-8-Final-Project_fyuji/data')\n",
    "\n",
    "for i in ingredients_list:\n",
    "    print(i)\n",
    "    os.makedirs(f'train/{i}')\n",
    "    os.makedirs(f'train/{i}')"
   ]
  },
  {
   "cell_type": "code",
   "execution_count": null,
   "metadata": {},
   "outputs": [],
   "source": [
    "os.chdir('/Users/Usuario/Desktop/IH_finalproject/Project-Week-8-Final-Project_fyuji/data/mixed')\n",
    "\n",
    "for i in ingredients_list:\n",
    "    print(i)\n",
    "    for i in random.sample(glob.glob(f'{i}*'), 100):\n",
    "        path = f'/Users/Usuario/Desktop/IH_finalproject/Project-Week-8-Final-Project_fyuji/data/train/{i}'\n",
    "        shutil.move(i, path)\n",
    "    for i in random.sample(glob.glob(f'{i}*'), 15):\n",
    "        path = f'/Users/Usuario/Desktop/IH_finalproject/Project-Week-8-Final-Project_fyuji/data/test/{i}'\n",
    "        shutil.move(i, path) \n",
    "    for i in random.sample(glob.glob(f'{i}*'), 10):\n",
    "        path = f'/Users/Usuario/Desktop/IH_finalproject/Project-Week-8-Final-Project_fyuji/data/valid/{i}'\n",
    "        shutil.move(i, path) \n",
    "\n"
   ]
  },
  {
   "cell_type": "code",
   "execution_count": null,
   "metadata": {},
   "outputs": [],
   "source": [
    "    \n",
    "    os.chdir('/Users/Usuario/Desktop/IH_finalproject/Project-Week-8-Final-Project_fyuji/data/mixed')\n",
    "    for i in random.sample(glob.glob('other*'), 170):\n",
    "        shutil.move(i, 'train/other')      \n",
    "    for i in random.sample(glob.glob('chicken*'), 170):\n",
    "        shutil.move(i, 'train/chicken')\n",
    "    \n",
    "        \n",
    "    for i in random.sample(glob.glob('other*'), 40):\n",
    "        shutil.move(i, 'valid/other')        \n",
    "    for i in random.sample(glob.glob('chicken*'), 40):\n",
    "        shutil.move(i, 'valid/chicken')\n",
    "    for i in random.sample(glob.glob('other*'), 20):\n",
    "        shutil.move(i, 'test/other')      \n",
    "    for i in random.sample(glob.glob('chicken*'), 20):\n",
    "        shutil.move(i, 'test/chicken')\n"
   ]
  },
  {
   "cell_type": "code",
   "execution_count": 2,
   "metadata": {},
   "outputs": [],
   "source": [
    "# we need the paths (relative wasn't working so absolute we go)\n",
    "train_path = '/Users/Usuario/Desktop/IH_finalproject/Project-Week-8-Final-Project_fyuji/data/train'\n",
    "valid_path = '/Users/Usuario/Desktop/IH_finalproject/Project-Week-8-Final-Project_fyuji/data/valid'\n",
    "test_path = '/Users/Usuario/Desktop/IH_finalproject/Project-Week-8-Final-Project_fyuji/data/test'"
   ]
  },
  {
   "cell_type": "code",
   "execution_count": 3,
   "metadata": {},
   "outputs": [
    {
     "name": "stdout",
     "output_type": "stream",
     "text": [
      "Found 551 images belonging to 6 classes.\n",
      "Found 93 images belonging to 6 classes.\n",
      "Found 130 images belonging to 6 classes.\n"
     ]
    }
   ],
   "source": [
    "# puting the data in the format of a Keras generator\n",
    "\n",
    "'''Necessary to define the size of the images so they are all the same, it can be different\n",
    "batch_size can be different too I guess'''\n",
    "\n",
    "train_batches = ImageDataGenerator(preprocessing_function=tf.keras.applications.vgg16.preprocess_input) \\\n",
    "    .flow_from_directory(directory=train_path, target_size=(224,224), classes=['avocados', \"banana\",\"boniato\",\"brocolli\",\"chicken\",\"eggs\"], batch_size=10)\n",
    "\n",
    "valid_batches = ImageDataGenerator(preprocessing_function=tf.keras.applications.vgg16.preprocess_input) \\\n",
    "    .flow_from_directory(directory=valid_path, target_size=(224,224), classes=['avocados', \"banana\",\"boniato\",\"brocolli\",\"chicken\",\"eggs\"], batch_size=10)\n",
    "\n",
    "test_batches = ImageDataGenerator(preprocessing_function=tf.keras.applications.vgg16.preprocess_input) \\\n",
    "    .flow_from_directory(directory=test_path, target_size=(224,224), classes=['avocados', \"banana\",\"boniato\",\"brocolli\",\"chicken\",\"eggs\"], batch_size=10, shuffle=False)\n",
    "\n",
    "#shuffle = False for test since we need to access the unshuffled data and by default it gets shuffled"
   ]
  },
  {
   "cell_type": "code",
   "execution_count": 4,
   "metadata": {},
   "outputs": [
    {
     "name": "stderr",
     "output_type": "stream",
     "text": [
      "Clipping input data to the valid range for imshow with RGB data ([0..1] for floats or [0..255] for integers).\n"
     ]
    },
    {
     "data": {
      "text/plain": [
       "<matplotlib.image.AxesImage at 0x238d8d65048>"
      ]
     },
     "execution_count": 4,
     "metadata": {},
     "output_type": "execute_result"
    },
    {
     "data": {
      "image/png": "[encoded data removed]",
      "text/plain": [
       "<Figure size 432x288 with 1 Axes>"
      ]
     },
     "metadata": {
      "needs_background": "light"
     },
     "output_type": "display_data"
    }
   ],
   "source": [
    "# grab a single batch of images and labels\n",
    "\n",
    "imgs, labels = next(train_batches)\n",
    "plt.imshow(imgs[0])"
   ]
  },
  {
   "cell_type": "code",
   "execution_count": 5,
   "metadata": {},
   "outputs": [
    {
     "data": {
      "text/plain": [
       "array([[1., 0., 0., 0., 0., 0.],\n",
       "       [0., 0., 0., 1., 0., 0.],\n",
       "       [0., 0., 1., 0., 0., 0.],\n",
       "       [0., 1., 0., 0., 0., 0.],\n",
       "       [0., 0., 1., 0., 0., 0.],\n",
       "       [0., 0., 1., 0., 0., 0.],\n",
       "       [0., 0., 1., 0., 0., 0.],\n",
       "       [0., 1., 0., 0., 0., 0.],\n",
       "       [0., 1., 0., 0., 0., 0.],\n",
       "       [1., 0., 0., 0., 0., 0.]], dtype=float32)"
      ]
     },
     "execution_count": 5,
     "metadata": {},
     "output_type": "execute_result"
    }
   ],
   "source": [
    "\n",
    "labels"
   ]
  },
  {
   "cell_type": "markdown",
   "metadata": {},
   "source": [
    "## Visualise the data"
   ]
  },
  {
   "cell_type": "code",
   "execution_count": 6,
   "metadata": {},
   "outputs": [],
   "source": [
    "# this function will plot images in the form of a grid with the 1 row and 10 columns where the images are placed\n",
    "# from the tensor flow website\n",
    "def plotImages(images_arr):\n",
    "    fig, axes = plt.subplots(1, 10, figsize=(20,20))\n",
    "    axes = axes.flatten()\n",
    "    for img, ax in zip(images_arr, axes):\n",
    "        ax.imshow(img)\n",
    "        ax.axis('off')\n",
    "    plt.tight_layout()\n",
    "    plt.show()"
   ]
  },
  {
   "cell_type": "code",
   "execution_count": 7,
   "metadata": {},
   "outputs": [
    {
     "name": "stderr",
     "output_type": "stream",
     "text": [
      "Clipping input data to the valid range for imshow with RGB data ([0..1] for floats or [0..255] for integers).\n",
      "Clipping input data to the valid range for imshow with RGB data ([0..1] for floats or [0..255] for integers).\n",
      "Clipping input data to the valid range for imshow with RGB data ([0..1] for floats or [0..255] for integers).\n",
      "Clipping input data to the valid range for imshow with RGB data ([0..1] for floats or [0..255] for integers).\n",
      "Clipping input data to the valid range for imshow with RGB data ([0..1] for floats or [0..255] for integers).\n",
      "Clipping input data to the valid range for imshow with RGB data ([0..1] for floats or [0..255] for integers).\n",
      "Clipping input data to the valid range for imshow with RGB data ([0..1] for floats or [0..255] for integers).\n",
      "Clipping input data to the valid range for imshow with RGB data ([0..1] for floats or [0..255] for integers).\n",
      "Clipping input data to the valid range for imshow with RGB data ([0..1] for floats or [0..255] for integers).\n",
      "Clipping input data to the valid range for imshow with RGB data ([0..1] for floats or [0..255] for integers).\n"
     ]
    },
    {
     "data": {
      "image/png": "[encoded data removed]",
      "text/plain": [
       "<Figure size 1440x1440 with 10 Axes>"
      ]
     },
     "metadata": {
      "needs_background": "light"
     },
     "output_type": "display_data"
    },
    {
     "name": "stdout",
     "output_type": "stream",
     "text": [
      "[[1. 0. 0. 0. 0. 0.]\n",
      " [0. 0. 0. 1. 0. 0.]\n",
      " [0. 0. 1. 0. 0. 0.]\n",
      " [0. 1. 0. 0. 0. 0.]\n",
      " [0. 0. 1. 0. 0. 0.]\n",
      " [0. 0. 1. 0. 0. 0.]\n",
      " [0. 0. 1. 0. 0. 0.]\n",
      " [0. 1. 0. 0. 0. 0.]\n",
      " [0. 1. 0. 0. 0. 0.]\n",
      " [1. 0. 0. 0. 0. 0.]]\n"
     ]
    }
   ],
   "source": [
    "# it will print the BATCH\n",
    "# the colours might look weird do to the preprocessing\n",
    "plotImages(imgs)\n",
    "print(labels)"
   ]
  },
  {
   "cell_type": "code",
   "execution_count": 8,
   "metadata": {},
   "outputs": [
    {
     "name": "stderr",
     "output_type": "stream",
     "text": [
      "Clipping input data to the valid range for imshow with RGB data ([0..1] for floats or [0..255] for integers).\n"
     ]
    },
    {
     "data": {
      "text/plain": [
       "<matplotlib.image.AxesImage at 0x238da968b48>"
      ]
     },
     "execution_count": 8,
     "metadata": {},
     "output_type": "execute_result"
    },
    {
     "data": {
      "image/png": "[encoded data removed]",
      "text/plain": [
       "<Figure size 432x288 with 1 Axes>"
      ]
     },
     "metadata": {
      "needs_background": "light"
     },
     "output_type": "display_data"
    }
   ],
   "source": [
    "\n",
    "plt.imshow(imgs[0])"
   ]
  },
  {
   "cell_type": "code",
   "execution_count": 9,
   "metadata": {},
   "outputs": [
    {
     "name": "stderr",
     "output_type": "stream",
     "text": [
      "Clipping input data to the valid range for imshow with RGB data ([0..1] for floats or [0..255] for integers).\n",
      "Clipping input data to the valid range for imshow with RGB data ([0..1] for floats or [0..255] for integers).\n",
      "Clipping input data to the valid range for imshow with RGB data ([0..1] for floats or [0..255] for integers).\n",
      "Clipping input data to the valid range for imshow with RGB data ([0..1] for floats or [0..255] for integers).\n",
      "Clipping input data to the valid range for imshow with RGB data ([0..1] for floats or [0..255] for integers).\n",
      "Clipping input data to the valid range for imshow with RGB data ([0..1] for floats or [0..255] for integers).\n",
      "Clipping input data to the valid range for imshow with RGB data ([0..1] for floats or [0..255] for integers).\n",
      "Clipping input data to the valid range for imshow with RGB data ([0..1] for floats or [0..255] for integers).\n",
      "Clipping input data to the valid range for imshow with RGB data ([0..1] for floats or [0..255] for integers).\n",
      "Clipping input data to the valid range for imshow with RGB data ([0..1] for floats or [0..255] for integers).\n"
     ]
    },
    {
     "data": {
      "image/png": "[encoded data removed]",
      "text/plain": [
       "<Figure size 1440x1440 with 10 Axes>"
      ]
     },
     "metadata": {
      "needs_background": "light"
     },
     "output_type": "display_data"
    },
    {
     "data": {
      "text/plain": [
       "'Chicken'"
      ]
     },
     "execution_count": 9,
     "metadata": {},
     "output_type": "execute_result"
    }
   ],
   "source": [
    "\n",
    "plotImages(imgs)\n",
    "\n",
    "\n",
    "dictionary = {1:\"Chicken\", 0:\"No Pollo\"}\n",
    "dictionary[labels[0][0]]"
   ]
  },
  {
   "cell_type": "markdown",
   "metadata": {},
   "source": [
    "## Building the model"
   ]
  },
  {
   "cell_type": "code",
   "execution_count": 10,
   "metadata": {},
   "outputs": [],
   "source": [
    "# our model has an input layer, 2 hidden layers (with 32 and 64 nodes) and an output layer\n",
    "\n",
    "model = Sequential([\n",
    "    Conv2D(filters=32, kernel_size=(3, 3), activation='relu', padding = 'same', input_shape=(224,224,3)),\n",
    "    MaxPool2D(pool_size=(2, 2), strides=2),\n",
    "    Conv2D(filters=64, kernel_size=(3, 3), activation='relu', padding = 'same'),\n",
    "    MaxPool2D(pool_size=(2, 2), strides=2),\n",
    "    Flatten(),\n",
    "    Dense(units=6, activation='softmax')\n",
    "])"
   ]
  },
  {
   "cell_type": "code",
   "execution_count": 11,
   "metadata": {},
   "outputs": [
    {
     "name": "stdout",
     "output_type": "stream",
     "text": [
      "Model: \"sequential\"\n",
      "_________________________________________________________________\n",
      "Layer (type)                 Output Shape              Param #   \n",
      "=================================================================\n",
      "conv2d (Conv2D)              (None, 224, 224, 32)      896       \n",
      "_________________________________________________________________\n",
      "max_pooling2d (MaxPooling2D) (None, 112, 112, 32)      0         \n",
      "_________________________________________________________________\n",
      "conv2d_1 (Conv2D)            (None, 112, 112, 64)      18496     \n",
      "_________________________________________________________________\n",
      "max_pooling2d_1 (MaxPooling2 (None, 56, 56, 64)        0         \n",
      "_________________________________________________________________\n",
      "flatten (Flatten)            (None, 200704)            0         \n",
      "_________________________________________________________________\n",
      "dense (Dense)                (None, 6)                 1204230   \n",
      "=================================================================\n",
      "Total params: 1,223,622\n",
      "Trainable params: 1,223,622\n",
      "Non-trainable params: 0\n",
      "_________________________________________________________________\n"
     ]
    }
   ],
   "source": [
    "# info about the model we created\n",
    "\n",
    "model.summary()"
   ]
  },
  {
   "cell_type": "code",
   "execution_count": 12,
   "metadata": {},
   "outputs": [],
   "source": [
    "# optimise the data \n",
    "\n",
    "model.compile(optimizer=Adam(learning_rate=0.0001), loss='categorical_crossentropy', metrics=['accuracy'])"
   ]
  },
  {
   "cell_type": "code",
   "execution_count": 13,
   "metadata": {},
   "outputs": [
    {
     "name": "stdout",
     "output_type": "stream",
     "text": [
      "Epoch 1/10\n",
      "56/56 - 13s - loss: 76.6264 - accuracy: 0.3376 - val_loss: 10.7844 - val_accuracy: 0.4946\n",
      "Epoch 2/10\n",
      "56/56 - 12s - loss: 4.1660 - accuracy: 0.7568 - val_loss: 5.9387 - val_accuracy: 0.6452\n",
      "Epoch 3/10\n",
      "56/56 - 12s - loss: 1.3186 - accuracy: 0.8621 - val_loss: 2.7978 - val_accuracy: 0.8495\n",
      "Epoch 4/10\n",
      "56/56 - 13s - loss: 0.4004 - accuracy: 0.9456 - val_loss: 3.7477 - val_accuracy: 0.8602\n",
      "Epoch 5/10\n",
      "56/56 - 14s - loss: 0.4089 - accuracy: 0.9583 - val_loss: 2.7061 - val_accuracy: 0.8925\n",
      "Epoch 6/10\n",
      "56/56 - 14s - loss: 0.1614 - accuracy: 0.9800 - val_loss: 2.4682 - val_accuracy: 0.8817\n",
      "Epoch 7/10\n",
      "56/56 - 13s - loss: 0.0604 - accuracy: 0.9927 - val_loss: 2.8483 - val_accuracy: 0.8602\n",
      "Epoch 8/10\n",
      "56/56 - 13s - loss: 0.0421 - accuracy: 0.9909 - val_loss: 2.7971 - val_accuracy: 0.8495\n",
      "Epoch 9/10\n",
      "56/56 - 13s - loss: 0.0262 - accuracy: 0.9946 - val_loss: 2.4600 - val_accuracy: 0.9032\n",
      "Epoch 10/10\n",
      "56/56 - 13s - loss: 0.0339 - accuracy: 0.9927 - val_loss: 2.1958 - val_accuracy: 0.8495\n"
     ]
    },
    {
     "data": {
      "text/plain": [
       "<tensorflow.python.keras.callbacks.History at 0x238da5eb888>"
      ]
     },
     "execution_count": 13,
     "metadata": {},
     "output_type": "execute_result"
    }
   ],
   "source": [
    "# train a simple CNN\n",
    "\n",
    "model.fit(x=train_batches,\n",
    "    steps_per_epoch=len(train_batches),\n",
    "    validation_data=valid_batches,\n",
    "    validation_steps=len(valid_batches),\n",
    "    epochs=10,\n",
    "    verbose=2\n",
    "          \n",
    ")"
   ]
  },
  {
   "cell_type": "code",
   "execution_count": 14,
   "metadata": {},
   "outputs": [
    {
     "data": {
      "text/plain": [
       "'C:\\\\Users\\\\Usuario\\\\Desktop\\\\IH_finalproject\\\\Project-Week-8-Final-Project_fyuji\\\\your-project'"
      ]
     },
     "execution_count": 14,
     "metadata": {},
     "output_type": "execute_result"
    }
   ],
   "source": [
    "os.getcwd()"
   ]
  },
  {
   "cell_type": "code",
   "execution_count": 15,
   "metadata": {},
   "outputs": [],
   "source": [
    "model.save(\"../../model_6ingredients_food_10epoch_v2.h5\")\n"
   ]
  },
  {
   "cell_type": "markdown",
   "metadata": {},
   "source": [
    "# RESNET"
   ]
  },
  {
   "cell_type": "code",
   "execution_count": null,
   "metadata": {},
   "outputs": [],
   "source": [
    "from tensorflow.keras.applications.resnet50 import ResNet50\n",
    "from tensorflow.keras.preprocessing import image\n",
    "from tensorflow.keras.applications.resnet50 import preprocess_input, decode_predictions\n",
    "import numpy as np\n",
    "import numpy as np\n",
    "import tensorflow.keras\n",
    "from tensorflow.keras import backend as K\n",
    "from tensorflow.keras.models import Sequential, Model\n",
    "from tensorflow.keras.layers import Activation\n",
    "from tensorflow.keras.optimizers import Adam\n",
    "from tensorflow.keras.metrics import categorical_crossentropy\n",
    "from tensorflow.keras.preprocessing.image import ImageDataGenerator\n",
    "from tensorflow.keras.layers import Dropout, MaxPool2D, GlobalAveragePooling2D\n",
    "from sklearn.metrics import confusion_matrix\n",
    "import matplotlib.pyplot as plt\n",
    "import tensorflow as tf\n",
    "import itertools\n",
    "\n"
   ]
  },
  {
   "cell_type": "code",
   "execution_count": null,
   "metadata": {},
   "outputs": [],
   "source": [
    "resnet_model = ResNet50(weights=None, include_top=False,input_shape=(224,224,3))"
   ]
  },
  {
   "cell_type": "code",
   "execution_count": null,
   "metadata": {},
   "outputs": [],
   "source": [
    "num_classes = 2\n",
    "x = resnet_model.output\n",
    "x = GlobalAveragePooling2D()(x)\n",
    "x = Dropout(0.35)(x)\n",
    "predictions = Dense(num_classes, activation=\"softmax\")(x)\n",
    "model1 = Model(inputs=resnet_model.input, outputs = predictions)"
   ]
  },
  {
   "cell_type": "code",
   "execution_count": null,
   "metadata": {},
   "outputs": [],
   "source": [
    "resnet_model.summary()"
   ]
  },
  {
   "cell_type": "code",
   "execution_count": null,
   "metadata": {},
   "outputs": [],
   "source": [
    "adam = Adam()\n",
    "model1.compile(optimizer=adam, loss=\"categorical_crossentropy\")"
   ]
  },
  {
   "cell_type": "code",
   "execution_count": null,
   "metadata": {},
   "outputs": [],
   "source": [
    "model1.fit(train_batches,validation_data=valid_batches,epochs = 1)"
   ]
  },
  {
   "cell_type": "code",
   "execution_count": null,
   "metadata": {},
   "outputs": [],
   "source": [
    "model1.save(\"../../resnet_50_1epoch.h5\")\n"
   ]
  },
  {
   "cell_type": "code",
   "execution_count": null,
   "metadata": {},
   "outputs": [],
   "source": [
    "predictions1 = model1.predict(x=test_batches, steps=len(test_batches), verbose=0)\n",
    "test_batches.classes"
   ]
  },
  {
   "cell_type": "code",
   "execution_count": null,
   "metadata": {},
   "outputs": [],
   "source": [
    "np.argmax(predictions1, axis=-1)"
   ]
  },
  {
   "cell_type": "markdown",
   "metadata": {},
   "source": [
    "### Predictions"
   ]
  },
  {
   "cell_type": "code",
   "execution_count": 16,
   "metadata": {},
   "outputs": [
    {
     "data": {
      "text/plain": [
       "array([0, 0, 0, 0, 0, 0, 0, 0, 0, 0, 0, 0, 0, 0, 0, 0, 0, 0, 0, 0, 0, 0,\n",
       "       0, 0, 0, 0, 0, 0, 0, 0, 1, 1, 1, 1, 1, 1, 1, 1, 1, 1, 1, 1, 1, 1,\n",
       "       1, 1, 1, 1, 1, 1, 2, 2, 2, 2, 2, 2, 2, 2, 2, 2, 2, 2, 2, 2, 2, 2,\n",
       "       2, 2, 2, 2, 3, 3, 3, 3, 3, 3, 3, 3, 3, 3, 3, 3, 3, 3, 3, 3, 3, 3,\n",
       "       3, 3, 4, 4, 4, 4, 4, 4, 4, 4, 4, 4, 4, 4, 4, 4, 4, 4, 4, 4, 4, 4,\n",
       "       5, 5, 5, 5, 5, 5, 5, 5, 5, 5, 5, 5, 5, 5, 5, 5, 5, 5, 5, 5])"
      ]
     },
     "execution_count": 16,
     "metadata": {},
     "output_type": "execute_result"
    }
   ],
   "source": [
    "# let's make some predictions\n",
    "\n",
    "predictions1 = model.predict(x=test_batches, steps=len(test_batches), verbose=0)\n",
    "test_batches.classes"
   ]
  },
  {
   "cell_type": "code",
   "execution_count": 17,
   "metadata": {},
   "outputs": [
    {
     "data": {
      "text/plain": [
       "['avocados\\\\avocados_100.jpg',\n",
       " 'avocados\\\\avocados_101.jpg',\n",
       " 'avocados\\\\avocados_102.jpg',\n",
       " 'avocados\\\\avocados_103.jpg',\n",
       " 'avocados\\\\avocados_104.jpg',\n",
       " 'avocados\\\\avocados_105.jpg',\n",
       " 'avocados\\\\avocados_106.jpg',\n",
       " 'avocados\\\\avocados_107.jpg',\n",
       " 'avocados\\\\avocados_108.jpg',\n",
       " 'avocados\\\\avocados_109.jpg',\n",
       " 'avocados\\\\avocados_110.jpg',\n",
       " 'avocados\\\\avocados_111.jpg',\n",
       " 'avocados\\\\avocados_112.jpg',\n",
       " 'avocados\\\\avocados_113.jpg',\n",
       " 'avocados\\\\avocados_114.jpg',\n",
       " 'avocados\\\\avocados_115.jpg',\n",
       " 'avocados\\\\avocados_116.jpg',\n",
       " 'avocados\\\\avocados_117.jpg',\n",
       " 'avocados\\\\avocados_118.jpg',\n",
       " 'avocados\\\\avocados_119.jpg',\n",
       " 'avocados\\\\avocados_120.jpg',\n",
       " 'avocados\\\\avocados_121.jpg',\n",
       " 'avocados\\\\avocados_122.jpg',\n",
       " 'avocados\\\\avocados_123.jpg',\n",
       " 'avocados\\\\avocados_124.jpg',\n",
       " 'avocados\\\\avocados_125.jpg',\n",
       " 'avocados\\\\avocados_126.jpg',\n",
       " 'avocados\\\\avocados_127.jpg',\n",
       " 'avocados\\\\avocados_128.jpg',\n",
       " 'avocados\\\\avocados_129.jpg',\n",
       " 'banana\\\\banana_100.jpg',\n",
       " 'banana\\\\banana_101.jpg',\n",
       " 'banana\\\\banana_102.jpg',\n",
       " 'banana\\\\banana_103.jpg',\n",
       " 'banana\\\\banana_104.jpg',\n",
       " 'banana\\\\banana_105.jpg',\n",
       " 'banana\\\\banana_106.jpg',\n",
       " 'banana\\\\banana_107.jpg',\n",
       " 'banana\\\\banana_108.jpg',\n",
       " 'banana\\\\banana_109.jpg',\n",
       " 'banana\\\\banana_110.jpg',\n",
       " 'banana\\\\banana_111.jpg',\n",
       " 'banana\\\\banana_112.jpg',\n",
       " 'banana\\\\banana_113.jpg',\n",
       " 'banana\\\\banana_114.jpg',\n",
       " 'banana\\\\banana_115.jpg',\n",
       " 'banana\\\\banana_116.jpg',\n",
       " 'banana\\\\banana_117.jpg',\n",
       " 'banana\\\\banana_118.jpg',\n",
       " 'banana\\\\banana_119.jpg',\n",
       " 'boniato\\\\boniato_100.jpg',\n",
       " 'boniato\\\\boniato_101.jpg',\n",
       " 'boniato\\\\boniato_102.jpg',\n",
       " 'boniato\\\\boniato_103.jpg',\n",
       " 'boniato\\\\boniato_104.jpg',\n",
       " 'boniato\\\\boniato_105.jpg',\n",
       " 'boniato\\\\boniato_106.jpg',\n",
       " 'boniato\\\\boniato_107.jpg',\n",
       " 'boniato\\\\boniato_108.jpg',\n",
       " 'boniato\\\\boniato_109.jpg',\n",
       " 'boniato\\\\boniato_110.jpg',\n",
       " 'boniato\\\\boniato_111.jpg',\n",
       " 'boniato\\\\boniato_112.jpg',\n",
       " 'boniato\\\\boniato_113.jpg',\n",
       " 'boniato\\\\boniato_114.jpg',\n",
       " 'boniato\\\\boniato_115.jpg',\n",
       " 'boniato\\\\boniato_116.jpg',\n",
       " 'boniato\\\\boniato_117.jpg',\n",
       " 'boniato\\\\boniato_118.jpg',\n",
       " 'boniato\\\\boniato_119.jpg',\n",
       " 'brocolli\\\\brocolli_100.jpg',\n",
       " 'brocolli\\\\brocolli_101.jpg',\n",
       " 'brocolli\\\\brocolli_102.jpg',\n",
       " 'brocolli\\\\brocolli_103.jpg',\n",
       " 'brocolli\\\\brocolli_104.jpg',\n",
       " 'brocolli\\\\brocolli_105.jpg',\n",
       " 'brocolli\\\\brocolli_107.jpg',\n",
       " 'brocolli\\\\brocolli_108.jpg',\n",
       " 'brocolli\\\\brocolli_109.jpg',\n",
       " 'brocolli\\\\brocolli_110.jpg',\n",
       " 'brocolli\\\\brocolli_112.jpg',\n",
       " 'brocolli\\\\brocolli_113.jpg',\n",
       " 'brocolli\\\\brocolli_115.jpg',\n",
       " 'brocolli\\\\brocolli_116.jpg',\n",
       " 'brocolli\\\\brocolli_117.jpg',\n",
       " 'brocolli\\\\brocolli_118.jpg',\n",
       " 'brocolli\\\\brocolli_119.jpg',\n",
       " 'brocolli\\\\brocolli_120.jpg',\n",
       " 'brocolli\\\\brocolli_122.jpg',\n",
       " 'brocolli\\\\brocolli_124.jpg',\n",
       " 'chicken\\\\chicken_101.jpg',\n",
       " 'chicken\\\\chicken_102.jpg',\n",
       " 'chicken\\\\chicken_103.jpg',\n",
       " 'chicken\\\\chicken_105.jpg',\n",
       " 'chicken\\\\chicken_106.jpg',\n",
       " 'chicken\\\\chicken_107.jpg',\n",
       " 'chicken\\\\chicken_108.jpg',\n",
       " 'chicken\\\\chicken_109.jpg',\n",
       " 'chicken\\\\chicken_110.jpg',\n",
       " 'chicken\\\\chicken_111.jpg',\n",
       " 'chicken\\\\chicken_112.jpg',\n",
       " 'chicken\\\\chicken_113.jpg',\n",
       " 'chicken\\\\chicken_114.jpg',\n",
       " 'chicken\\\\chicken_115.jpg',\n",
       " 'chicken\\\\chicken_117.jpg',\n",
       " 'chicken\\\\chicken_118.jpg',\n",
       " 'chicken\\\\chicken_119.jpg',\n",
       " 'chicken\\\\chicken_120.jpg',\n",
       " 'chicken\\\\chicken_121.jpg',\n",
       " 'chicken\\\\chicken_122.jpg',\n",
       " 'eggs\\\\eggs_100.jpg',\n",
       " 'eggs\\\\eggs_101.jpg',\n",
       " 'eggs\\\\eggs_102.jpg',\n",
       " 'eggs\\\\eggs_103.jpg',\n",
       " 'eggs\\\\eggs_104.jpg',\n",
       " 'eggs\\\\eggs_105.jpg',\n",
       " 'eggs\\\\eggs_106.jpg',\n",
       " 'eggs\\\\eggs_107.jpg',\n",
       " 'eggs\\\\eggs_108.jpg',\n",
       " 'eggs\\\\eggs_109.jpg',\n",
       " 'eggs\\\\eggs_110.jpg',\n",
       " 'eggs\\\\eggs_111.jpg',\n",
       " 'eggs\\\\eggs_112.jpg',\n",
       " 'eggs\\\\eggs_113.jpg',\n",
       " 'eggs\\\\eggs_114.jpg',\n",
       " 'eggs\\\\eggs_115.jpg',\n",
       " 'eggs\\\\eggs_116.jpg',\n",
       " 'eggs\\\\eggs_117.jpg',\n",
       " 'eggs\\\\eggs_118.jpg',\n",
       " 'eggs\\\\eggs_119.jpg']"
      ]
     },
     "execution_count": 17,
     "metadata": {},
     "output_type": "execute_result"
    }
   ],
   "source": [
    "test_batches.filenames"
   ]
  },
  {
   "cell_type": "code",
   "execution_count": 18,
   "metadata": {},
   "outputs": [
    {
     "data": {
      "text/plain": [
       "array([0, 0, 0, 0, 0, 0, 3, 0, 0, 0, 3, 0, 0, 0, 1, 3, 1, 3, 0, 0, 0, 4,\n",
       "       3, 4, 0, 0, 0, 0, 1, 0, 1, 1, 1, 1, 1, 1, 1, 1, 1, 1, 1, 1, 1, 1,\n",
       "       1, 0, 1, 1, 1, 1, 2, 4, 2, 2, 2, 2, 2, 2, 2, 1, 2, 2, 4, 2, 2, 2,\n",
       "       2, 2, 2, 2, 0, 3, 3, 3, 3, 3, 3, 3, 3, 3, 3, 3, 3, 3, 3, 3, 3, 3,\n",
       "       3, 3, 2, 5, 4, 4, 4, 4, 2, 4, 4, 2, 4, 5, 2, 4, 4, 4, 4, 4, 4, 2,\n",
       "       5, 2, 5, 5, 5, 5, 5, 5, 5, 5, 5, 5, 5, 5, 5, 5, 2, 5, 5, 5],\n",
       "      dtype=int64)"
      ]
     },
     "execution_count": 18,
     "metadata": {},
     "output_type": "execute_result"
    }
   ],
   "source": [
    "np.argmax(predictions1, axis=-1)"
   ]
  },
  {
   "cell_type": "code",
   "execution_count": 19,
   "metadata": {},
   "outputs": [],
   "source": [
    "# confusion matrix\n",
    "\n",
    "cm = confusion_matrix(y_true=test_batches.classes, y_pred=np.argmax(predictions1, axis=-1))"
   ]
  },
  {
   "cell_type": "code",
   "execution_count": 20,
   "metadata": {},
   "outputs": [],
   "source": [
    "# directly from scikit-learn a function to plot the confusion matrix\n",
    "\n",
    "def plot_confusion_matrix(cm, classes,\n",
    "                          normalize=False,\n",
    "                          title='Confusion matrix',\n",
    "                          cmap=plt.cm.Blues):\n",
    "    \"\"\"\n",
    "    This function prints and plots the confusion matrix.\n",
    "    Normalization can be applied by setting `normalize=True`.\n",
    "    \"\"\"\n",
    "    plt.imshow(cm, interpolation='nearest', cmap=cmap)\n",
    "    plt.title(title)\n",
    "    plt.colorbar()\n",
    "    tick_marks = np.arange(len(classes))\n",
    "    plt.xticks(tick_marks, classes, rotation=45)\n",
    "    plt.yticks(tick_marks, classes)\n",
    "\n",
    "    if normalize:\n",
    "        cm = cm.astype('float') / cm.sum(axis=1)[:, np.newaxis]\n",
    "        print(\"Normalized confusion matrix\")\n",
    "    else:\n",
    "        print('Confusion matrix, without normalization')\n",
    "\n",
    "    print(cm)\n",
    "\n",
    "    thresh = cm.max() / 2.\n",
    "    for i, j in itertools.product(range(cm.shape[0]), range(cm.shape[1])):\n",
    "        plt.text(j, i, cm[i, j],\n",
    "            horizontalalignment=\"center\",\n",
    "            color=\"white\" if cm[i, j] > thresh else \"black\")\n",
    "\n",
    "    plt.tight_layout()\n",
    "    plt.ylabel('True label')\n",
    "    plt.xlabel('Predicted label')"
   ]
  },
  {
   "cell_type": "code",
   "execution_count": 21,
   "metadata": {},
   "outputs": [
    {
     "data": {
      "text/plain": [
       "{0: 'avocados',\n",
       " 1: 'banana',\n",
       " 2: 'boniato',\n",
       " 3: 'brocolli',\n",
       " 4: 'chicken',\n",
       " 5: 'eggs'}"
      ]
     },
     "execution_count": 21,
     "metadata": {},
     "output_type": "execute_result"
    }
   ],
   "source": [
    "# so we know how to pass the classes later when we want to plot it\n",
    "\n",
    "classes_dict = test_batches.class_indices\n",
    "classes_dict = {value : key for (key, value) in classes_dict.items()}\n",
    "classes_dict"
   ]
  },
  {
   "cell_type": "code",
   "execution_count": 22,
   "metadata": {},
   "outputs": [
    {
     "name": "stdout",
     "output_type": "stream",
     "text": [
      "Confusion matrix, without normalization\n",
      "[[20  3  0  5  2  0]\n",
      " [ 1 19  0  0  0  0]\n",
      " [ 0  1 17  0  2  0]\n",
      " [ 1  0  0 19  0  0]\n",
      " [ 0  0  5  0 13  2]\n",
      " [ 0  0  2  0  0 18]]\n"
     ]
    },
    {
     "data": {
      "image/png": "[encoded data removed]",
      "text/plain": [
       "<Figure size 432x288 with 2 Axes>"
      ]
     },
     "metadata": {
      "needs_background": "light"
     },
     "output_type": "display_data"
    }
   ],
   "source": [
    "# and let's use the function\n",
    "\n",
    "cm_plot_labels = ['avocados', \"banana\",\"boniato\",\"brocolli\",\"chicken\",\"eggs\"]\n",
    "plot_confusion_matrix(cm=cm, classes=cm_plot_labels, title='Confusion Matrix')"
   ]
  },
  {
   "cell_type": "code",
   "execution_count": null,
   "metadata": {},
   "outputs": [],
   "source": [
    "import pandas as pd\n",
    "filenames=test_batches.filenames\n",
    "path=[]\n",
    "for i in filenames:\n",
    "    print(i)\n",
    "    i =i.replace(\"\\\\\",\"/\")\n",
    "    print(i)\n",
    "    path.append(i)\n",
    "\n",
    "    \n",
    "prediction = np.argmax(predictions1, axis=-1)\n",
    "df=pd.DataFrame({\n",
    "    'filename':path,\n",
    "    'prediction':prediction\n",
    "})\n",
    "\n",
    "df[\"predction\"] = df[\"prediction\"].replace({0:\"Chicken\",1:\"Other\"})"
   ]
  },
  {
   "cell_type": "code",
   "execution_count": 27,
   "metadata": {},
   "outputs": [
    {
     "name": "stdout",
     "output_type": "stream",
     "text": [
      "avocados\\avocados_100.jpg\n",
      "avocados/avocados_100.jpg\n",
      "avocados\\avocados_101.jpg\n",
      "avocados/avocados_101.jpg\n",
      "avocados\\avocados_102.jpg\n",
      "avocados/avocados_102.jpg\n",
      "avocados\\avocados_103.jpg\n",
      "avocados/avocados_103.jpg\n",
      "avocados\\avocados_104.jpg\n",
      "avocados/avocados_104.jpg\n",
      "avocados\\avocados_105.jpg\n",
      "avocados/avocados_105.jpg\n",
      "avocados\\avocados_106.jpg\n",
      "avocados/avocados_106.jpg\n",
      "avocados\\avocados_107.jpg\n",
      "avocados/avocados_107.jpg\n",
      "avocados\\avocados_108.jpg\n",
      "avocados/avocados_108.jpg\n",
      "avocados\\avocados_109.jpg\n",
      "avocados/avocados_109.jpg\n",
      "avocados\\avocados_110.jpg\n",
      "avocados/avocados_110.jpg\n",
      "avocados\\avocados_111.jpg\n",
      "avocados/avocados_111.jpg\n",
      "avocados\\avocados_112.jpg\n",
      "avocados/avocados_112.jpg\n",
      "avocados\\avocados_113.jpg\n",
      "avocados/avocados_113.jpg\n",
      "avocados\\avocados_114.jpg\n",
      "avocados/avocados_114.jpg\n",
      "avocados\\avocados_115.jpg\n",
      "avocados/avocados_115.jpg\n",
      "avocados\\avocados_116.jpg\n",
      "avocados/avocados_116.jpg\n",
      "avocados\\avocados_117.jpg\n",
      "avocados/avocados_117.jpg\n",
      "avocados\\avocados_118.jpg\n",
      "avocados/avocados_118.jpg\n",
      "avocados\\avocados_119.jpg\n",
      "avocados/avocados_119.jpg\n",
      "avocados\\avocados_120.jpg\n",
      "avocados/avocados_120.jpg\n",
      "avocados\\avocados_121.jpg\n",
      "avocados/avocados_121.jpg\n",
      "avocados\\avocados_122.jpg\n",
      "avocados/avocados_122.jpg\n",
      "avocados\\avocados_123.jpg\n",
      "avocados/avocados_123.jpg\n",
      "avocados\\avocados_124.jpg\n",
      "avocados/avocados_124.jpg\n",
      "avocados\\avocados_125.jpg\n",
      "avocados/avocados_125.jpg\n",
      "avocados\\avocados_126.jpg\n",
      "avocados/avocados_126.jpg\n",
      "avocados\\avocados_127.jpg\n",
      "avocados/avocados_127.jpg\n",
      "avocados\\avocados_128.jpg\n",
      "avocados/avocados_128.jpg\n",
      "avocados\\avocados_129.jpg\n",
      "avocados/avocados_129.jpg\n",
      "banana\\banana_100.jpg\n",
      "banana/banana_100.jpg\n",
      "banana\\banana_101.jpg\n",
      "banana/banana_101.jpg\n",
      "banana\\banana_102.jpg\n",
      "banana/banana_102.jpg\n",
      "banana\\banana_103.jpg\n",
      "banana/banana_103.jpg\n",
      "banana\\banana_104.jpg\n",
      "banana/banana_104.jpg\n",
      "banana\\banana_105.jpg\n",
      "banana/banana_105.jpg\n",
      "banana\\banana_106.jpg\n",
      "banana/banana_106.jpg\n",
      "banana\\banana_107.jpg\n",
      "banana/banana_107.jpg\n",
      "banana\\banana_108.jpg\n",
      "banana/banana_108.jpg\n",
      "banana\\banana_109.jpg\n",
      "banana/banana_109.jpg\n",
      "banana\\banana_110.jpg\n",
      "banana/banana_110.jpg\n",
      "banana\\banana_111.jpg\n",
      "banana/banana_111.jpg\n",
      "banana\\banana_112.jpg\n",
      "banana/banana_112.jpg\n",
      "banana\\banana_113.jpg\n",
      "banana/banana_113.jpg\n",
      "banana\\banana_114.jpg\n",
      "banana/banana_114.jpg\n",
      "banana\\banana_115.jpg\n",
      "banana/banana_115.jpg\n",
      "banana\\banana_116.jpg\n",
      "banana/banana_116.jpg\n",
      "banana\\banana_117.jpg\n",
      "banana/banana_117.jpg\n",
      "banana\\banana_118.jpg\n",
      "banana/banana_118.jpg\n",
      "banana\\banana_119.jpg\n",
      "banana/banana_119.jpg\n",
      "boniato\\boniato_100.jpg\n",
      "boniato/boniato_100.jpg\n",
      "boniato\\boniato_101.jpg\n",
      "boniato/boniato_101.jpg\n",
      "boniato\\boniato_102.jpg\n",
      "boniato/boniato_102.jpg\n",
      "boniato\\boniato_103.jpg\n",
      "boniato/boniato_103.jpg\n",
      "boniato\\boniato_104.jpg\n",
      "boniato/boniato_104.jpg\n",
      "boniato\\boniato_105.jpg\n",
      "boniato/boniato_105.jpg\n",
      "boniato\\boniato_106.jpg\n",
      "boniato/boniato_106.jpg\n",
      "boniato\\boniato_107.jpg\n",
      "boniato/boniato_107.jpg\n",
      "boniato\\boniato_108.jpg\n",
      "boniato/boniato_108.jpg\n",
      "boniato\\boniato_109.jpg\n",
      "boniato/boniato_109.jpg\n",
      "boniato\\boniato_110.jpg\n",
      "boniato/boniato_110.jpg\n",
      "boniato\\boniato_111.jpg\n",
      "boniato/boniato_111.jpg\n",
      "boniato\\boniato_112.jpg\n",
      "boniato/boniato_112.jpg\n",
      "boniato\\boniato_113.jpg\n",
      "boniato/boniato_113.jpg\n",
      "boniato\\boniato_114.jpg\n",
      "boniato/boniato_114.jpg\n",
      "boniato\\boniato_115.jpg\n",
      "boniato/boniato_115.jpg\n",
      "boniato\\boniato_116.jpg\n",
      "boniato/boniato_116.jpg\n",
      "boniato\\boniato_117.jpg\n",
      "boniato/boniato_117.jpg\n",
      "boniato\\boniato_118.jpg\n",
      "boniato/boniato_118.jpg\n",
      "boniato\\boniato_119.jpg\n",
      "boniato/boniato_119.jpg\n",
      "brocolli\\brocolli_100.jpg\n",
      "brocolli/brocolli_100.jpg\n",
      "brocolli\\brocolli_101.jpg\n",
      "brocolli/brocolli_101.jpg\n",
      "brocolli\\brocolli_102.jpg\n",
      "brocolli/brocolli_102.jpg\n",
      "brocolli\\brocolli_103.jpg\n",
      "brocolli/brocolli_103.jpg\n",
      "brocolli\\brocolli_104.jpg\n",
      "brocolli/brocolli_104.jpg\n",
      "brocolli\\brocolli_105.jpg\n",
      "brocolli/brocolli_105.jpg\n",
      "brocolli\\brocolli_107.jpg\n",
      "brocolli/brocolli_107.jpg\n",
      "brocolli\\brocolli_108.jpg\n",
      "brocolli/brocolli_108.jpg\n",
      "brocolli\\brocolli_109.jpg\n",
      "brocolli/brocolli_109.jpg\n",
      "brocolli\\brocolli_110.jpg\n",
      "brocolli/brocolli_110.jpg\n",
      "brocolli\\brocolli_112.jpg\n",
      "brocolli/brocolli_112.jpg\n",
      "brocolli\\brocolli_113.jpg\n",
      "brocolli/brocolli_113.jpg\n",
      "brocolli\\brocolli_115.jpg\n",
      "brocolli/brocolli_115.jpg\n",
      "brocolli\\brocolli_116.jpg\n",
      "brocolli/brocolli_116.jpg\n",
      "brocolli\\brocolli_117.jpg\n",
      "brocolli/brocolli_117.jpg\n",
      "brocolli\\brocolli_118.jpg\n",
      "brocolli/brocolli_118.jpg\n",
      "brocolli\\brocolli_119.jpg\n",
      "brocolli/brocolli_119.jpg\n",
      "brocolli\\brocolli_120.jpg\n",
      "brocolli/brocolli_120.jpg\n",
      "brocolli\\brocolli_122.jpg\n",
      "brocolli/brocolli_122.jpg\n",
      "brocolli\\brocolli_124.jpg\n",
      "brocolli/brocolli_124.jpg\n",
      "chicken\\chicken_101.jpg\n",
      "chicken/chicken_101.jpg\n",
      "chicken\\chicken_102.jpg\n",
      "chicken/chicken_102.jpg\n",
      "chicken\\chicken_103.jpg\n",
      "chicken/chicken_103.jpg\n",
      "chicken\\chicken_105.jpg\n",
      "chicken/chicken_105.jpg\n",
      "chicken\\chicken_106.jpg\n",
      "chicken/chicken_106.jpg\n",
      "chicken\\chicken_107.jpg\n",
      "chicken/chicken_107.jpg\n",
      "chicken\\chicken_108.jpg\n",
      "chicken/chicken_108.jpg\n",
      "chicken\\chicken_109.jpg\n",
      "chicken/chicken_109.jpg\n",
      "chicken\\chicken_110.jpg\n",
      "chicken/chicken_110.jpg\n",
      "chicken\\chicken_111.jpg\n",
      "chicken/chicken_111.jpg\n",
      "chicken\\chicken_112.jpg\n",
      "chicken/chicken_112.jpg\n",
      "chicken\\chicken_113.jpg\n",
      "chicken/chicken_113.jpg\n",
      "chicken\\chicken_114.jpg\n",
      "chicken/chicken_114.jpg\n",
      "chicken\\chicken_115.jpg\n",
      "chicken/chicken_115.jpg\n",
      "chicken\\chicken_117.jpg\n",
      "chicken/chicken_117.jpg\n",
      "chicken\\chicken_118.jpg\n",
      "chicken/chicken_118.jpg\n",
      "chicken\\chicken_119.jpg\n",
      "chicken/chicken_119.jpg\n",
      "chicken\\chicken_120.jpg\n",
      "chicken/chicken_120.jpg\n",
      "chicken\\chicken_121.jpg\n",
      "chicken/chicken_121.jpg\n",
      "chicken\\chicken_122.jpg\n",
      "chicken/chicken_122.jpg\n",
      "eggs\\eggs_100.jpg\n",
      "eggs/eggs_100.jpg\n",
      "eggs\\eggs_101.jpg\n",
      "eggs/eggs_101.jpg\n",
      "eggs\\eggs_102.jpg\n",
      "eggs/eggs_102.jpg\n",
      "eggs\\eggs_103.jpg\n",
      "eggs/eggs_103.jpg\n",
      "eggs\\eggs_104.jpg\n",
      "eggs/eggs_104.jpg\n",
      "eggs\\eggs_105.jpg\n",
      "eggs/eggs_105.jpg\n",
      "eggs\\eggs_106.jpg\n",
      "eggs/eggs_106.jpg\n",
      "eggs\\eggs_107.jpg\n",
      "eggs/eggs_107.jpg\n",
      "eggs\\eggs_108.jpg\n",
      "eggs/eggs_108.jpg\n",
      "eggs\\eggs_109.jpg\n",
      "eggs/eggs_109.jpg\n",
      "eggs\\eggs_110.jpg\n",
      "eggs/eggs_110.jpg\n",
      "eggs\\eggs_111.jpg\n",
      "eggs/eggs_111.jpg\n",
      "eggs\\eggs_112.jpg\n",
      "eggs/eggs_112.jpg\n",
      "eggs\\eggs_113.jpg\n",
      "eggs/eggs_113.jpg\n",
      "eggs\\eggs_114.jpg\n",
      "eggs/eggs_114.jpg\n",
      "eggs\\eggs_115.jpg\n",
      "eggs/eggs_115.jpg\n",
      "eggs\\eggs_116.jpg\n",
      "eggs/eggs_116.jpg\n",
      "eggs\\eggs_117.jpg\n",
      "eggs/eggs_117.jpg\n",
      "eggs\\eggs_118.jpg\n",
      "eggs/eggs_118.jpg\n",
      "eggs\\eggs_119.jpg\n",
      "eggs/eggs_119.jpg\n"
     ]
    }
   ],
   "source": [
    "filenames=test_batches.filenames\n",
    "path=[]\n",
    "for i in filenames:\n",
    "    print(i)\n",
    "    i =i.replace(\"\\\\\",\"/\")\n",
    "    print(i)\n",
    "    path.append(i)"
   ]
  },
  {
   "cell_type": "code",
   "execution_count": null,
   "metadata": {},
   "outputs": [],
   "source": [
    "df"
   ]
  },
  {
   "cell_type": "code",
   "execution_count": null,
   "metadata": {},
   "outputs": [],
   "source": [
    "test_path+\"/\"+df.filename[0]"
   ]
  },
  {
   "cell_type": "code",
   "execution_count": null,
   "metadata": {},
   "outputs": [],
   "source": [
    "for index, row in df.iterrows():\n",
    "    filename = row['filename']\n",
    "    predction = row['predction']\n",
    "    print(index)\n",
    "    print(filename)\n",
    "    print(predction)"
   ]
  },
  {
   "cell_type": "code",
   "execution_count": null,
   "metadata": {},
   "outputs": [],
   "source": [
    "Image_Width=128\n",
    "Image_Height=128\n",
    "Image_Size=(Image_Width,Image_Height)\n",
    "Image_Channels=3\n",
    "\n",
    "\n",
    "\n",
    "plt.figure(figsize=(12, 24))\n",
    "for index, row in df.iterrows():\n",
    "    filename = row['filename']\n",
    "    predction = row['predction']\n",
    "    img = load_img(test_path+\"/\"+filename, target_size=Image_Size)\n",
    "    plt.subplot(10, 4, index+1)\n",
    "    plt.imshow(img)\n",
    "    plt.xlabel(predction)\n",
    "\n",
    "plt.tight_layout()\n",
    "plt.show()"
   ]
  }
 ],
 "metadata": {
  "kernelspec": {
   "display_name": "Python 3",
   "language": "python",
   "name": "python3"
  },
  "language_info": {
   "codemirror_mode": {
    "name": "ipython",
    "version": 3
   },
   "file_extension": ".py",
   "mimetype": "text/x-python",
   "name": "python",
   "nbconvert_exporter": "python",
   "pygments_lexer": "ipython3",
   "version": "3.7.6"
  },
  "toc": {
   "base_numbering": 1,
   "nav_menu": {},
   "number_sections": true,
   "sideBar": true,
   "skip_h1_title": false,
   "title_cell": "Table of Contents",
   "title_sidebar": "Contents",
   "toc_cell": false,
   "toc_position": {
    "height": "calc(100% - 180px)",
    "left": "10px",
    "top": "150px",
    "width": "202.39999389648438px"
   },
   "toc_section_display": true,
   "toc_window_display": true
  }
 },
 "nbformat": 4,
 "nbformat_minor": 4
}
