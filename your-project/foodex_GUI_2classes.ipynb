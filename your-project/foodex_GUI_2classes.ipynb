{
 "cells": [
  {
   "cell_type": "code",
   "execution_count": 40,
   "metadata": {},
   "outputs": [],
   "source": [
    "import tkinter as tk\n",
    "from tkinter import filedialog\n",
    "from tkinter import *\n",
    "from PIL import ImageTk, Image\n",
    "import numpy\n",
    "import os\n",
    "from tensorflow.keras.preprocessing.image import ImageDataGenerator\n",
    "import tensorflow as tf\n",
    "import shutil\n"
   ]
  },
  {
   "cell_type": "code",
   "execution_count": 41,
   "metadata": {},
   "outputs": [],
   "source": [
    "from tensorflow.keras.models import load_model\n",
    "model = load_model('C:\\\\Users\\\\Usuario\\\\Desktop\\\\IH_finalproject\\\\Project-Week-8-Final-Project_fyuji\\\\model3_food_10epoch.h5')\n",
    "#dictionary to label all traffic signs class.\n",
    "classes = { \n",
    "    0:'Main Ingredient is: Chicken',\n",
    "    1:'Main Ingredient is: Salad',\n",
    " \n",
    "}\n"
   ]
  },
  {
   "cell_type": "code",
   "execution_count": 42,
   "metadata": {},
   "outputs": [
    {
     "data": {
      "text/plain": [
       "'C:\\\\Users\\\\Usuario\\\\Desktop\\\\IH_finalproject\\\\Project-Week-8-Final-Project_fyuji\\\\your-project\\\\temp'"
      ]
     },
     "execution_count": 42,
     "metadata": {},
     "output_type": "execute_result"
    }
   ],
   "source": [
    "os.chdir('C:\\\\Users\\\\Usuario\\\\Desktop\\\\IH_finalproject\\\\Project-Week-8-Final-Project_fyuji\\\\your-project\\\\temp')\n",
    "\n",
    "os.getcwd()\n",
    "\n"
   ]
  },
  {
   "cell_type": "code",
   "execution_count": 43,
   "metadata": {},
   "outputs": [],
   "source": [
    "#initialise GUI\n",
    "top=tk.Tk()\n",
    "top.geometry('800x600')\n",
    "top.title('Food Pokedex')\n",
    "top.configure(background='#CDCDCD')\n",
    "label=Label(top,background='#CDCDCD', font=('arial',15,'bold'))\n",
    "sign_image = Label(top)\n",
    "\n",
    "gui_path = '/Users/Usuario/Desktop/IH_finalproject/Project-Week-8-Final-Project_fyuji/your-project/temp'\n",
    "\n",
    "def classify(file_path):\n",
    "    global label_packed\n",
    "    image = Image.open(file_path)\n",
    "    if \"chicken\" in image.filename:\n",
    "        temp_name=r'chicken'\n",
    "    else:\n",
    "        temp_name=r'other'\n",
    "    os.mkdir('C:\\\\Users\\\\Usuario\\\\Desktop\\\\IH_finalproject\\\\Project-Week-8-Final-Project_fyuji\\\\your-project\\\\temp\\\\chicken')\n",
    "    os.chdir('C:\\\\Users\\\\Usuario\\\\Desktop\\\\IH_finalproject\\\\Project-Week-8-Final-Project_fyuji\\\\your-project\\\\temp\\\\chicken')\n",
    "    image.save(f\"{temp_name}001.png\")\n",
    "    gui_path = '/Users/Usuario/Desktop/IH_finalproject/Project-Week-8-Final-Project_fyuji/your-project/temp'\n",
    "    os.chdir('C:\\\\Users\\\\Usuario\\\\Desktop\\\\IH_finalproject\\\\Project-Week-8-Final-Project_fyuji\\\\your-project\\\\temp')\n",
    "    gui_batch = ImageDataGenerator(preprocessing_function=tf.keras.applications.vgg16.preprocess_input) \\\n",
    "    .flow_from_directory(directory=gui_path, target_size=(224,224), classes=['chicken', 'other'], batch_size=10)\n",
    "    imgs, labels = next(gui_batch)\n",
    "    \n",
    "    try:\n",
    "        shutil.rmtree('C:\\\\Users\\\\Usuario\\\\Desktop\\\\IH_finalproject\\\\Project-Week-8-Final-Project_fyuji\\\\your-project\\\\temp\\\\chicken')\n",
    "    except:\n",
    "        pass\n",
    "    \n",
    "    #image = image.resize((224,224))\n",
    "    #image = numpy.expand_dims(image, axis=0)\n",
    "    #image = numpy.array(image)\n",
    "    #image = image/255\n",
    "    pred = model.predict_classes(imgs)[0]\n",
    "    sign = classes[pred]\n",
    "    print(sign)\n",
    "    label.configure(foreground='#011638', text=sign) \n",
    "def show_classify_button(file_path):\n",
    "    classify_b=Button(top,text=\"Classify Image\",\n",
    "    command=lambda: classify(file_path),\n",
    "    padx=10,pady=5)\n",
    "    classify_b.configure(background='#364156', foreground='white',\n",
    "font=('arial',10,'bold'))\n",
    "    classify_b.place(relx=0.79,rely=0.46)\n"
   ]
  },
  {
   "cell_type": "code",
   "execution_count": 44,
   "metadata": {},
   "outputs": [],
   "source": [
    "def upload_image():\n",
    "    try:\n",
    "        file_path=filedialog.askopenfilename()\n",
    "        uploaded=Image.open(file_path)\n",
    "        uploaded.thumbnail(((top.winfo_width()/2.25),\n",
    "    (top.winfo_height()/2.25)))\n",
    "        im=ImageTk.PhotoImage(uploaded)\n",
    "        sign_image.configure(image=im)\n",
    "        sign_image.image=im\n",
    "        label.configure(text='')\n",
    "        show_classify_button(file_path)\n",
    "    except:\n",
    "        pass"
   ]
  },
  {
   "cell_type": "code",
   "execution_count": null,
   "metadata": {},
   "outputs": [
    {
     "name": "stdout",
     "output_type": "stream",
     "text": [
      "Found 1 images belonging to 2 classes.\n",
      "Main Ingredient is: Chicken\n",
      "Found 1 images belonging to 2 classes.\n",
      "Main Ingredient is: Chicken\n",
      "Found 1 images belonging to 2 classes.\n",
      "Main Ingredient is: Chicken\n",
      "Found 1 images belonging to 2 classes.\n",
      "Main Ingredient is: Chicken\n",
      "Found 1 images belonging to 2 classes.\n",
      "Main Ingredient is: Salad\n",
      "Found 1 images belonging to 2 classes.\n",
      "Main Ingredient is: Chicken\n"
     ]
    }
   ],
   "source": [
    "upload=Button(top,text=\"Upload an image\",command=upload_image,padx=10,pady=5)\n",
    "upload.configure(background='#364156', foreground='white',font=('arial',10,'bold'))\n",
    "upload.pack(side=BOTTOM,pady=50)\n",
    "sign_image.pack(side=BOTTOM,expand=True)\n",
    "label.pack(side=BOTTOM,expand=True)\n",
    "heading = Label(top, text=\"Food Pokedex\",pady=20, font=('arial',20,'bold'))\n",
    "heading.configure(background='#CDCDCD',foreground='#364156')\n",
    "heading.pack()\n",
    "top.mainloop()"
   ]
  },
  {
   "cell_type": "code",
   "execution_count": 31,
   "metadata": {},
   "outputs": [
    {
     "ename": "NameError",
     "evalue": "name 'sign' is not defined",
     "output_type": "error",
     "traceback": [
      "\u001b[1;31m---------------------------------------------------------------------------\u001b[0m",
      "\u001b[1;31mNameError\u001b[0m                                 Traceback (most recent call last)",
      "\u001b[1;32m<ipython-input-31-0748eee9f7f5>\u001b[0m in \u001b[0;36m<module>\u001b[1;34m\u001b[0m\n\u001b[1;32m----> 1\u001b[1;33m \u001b[0msign\u001b[0m\u001b[1;33m\u001b[0m\u001b[1;33m\u001b[0m\u001b[0m\n\u001b[0m",
      "\u001b[1;31mNameError\u001b[0m: name 'sign' is not defined"
     ]
    }
   ],
   "source": [
    "sign"
   ]
  },
  {
   "cell_type": "code",
   "execution_count": null,
   "metadata": {},
   "outputs": [],
   "source": []
  }
 ],
 "metadata": {
  "kernelspec": {
   "display_name": "Python 3",
   "language": "python",
   "name": "python3"
  },
  "language_info": {
   "codemirror_mode": {
    "name": "ipython",
    "version": 3
   },
   "file_extension": ".py",
   "mimetype": "text/x-python",
   "name": "python",
   "nbconvert_exporter": "python",
   "pygments_lexer": "ipython3",
   "version": "3.7.6"
  }
 },
 "nbformat": 4,
 "nbformat_minor": 4
}
