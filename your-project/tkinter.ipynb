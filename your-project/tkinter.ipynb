{
 "cells": [
  {
   "cell_type": "code",
   "execution_count": 1,
   "metadata": {},
   "outputs": [],
   "source": [
    "import cv2,time"
   ]
  },
  {
   "cell_type": "code",
   "execution_count": 2,
   "metadata": {},
   "outputs": [],
   "source": [
    "video = cv2.VideoCapture(0)"
   ]
  },
  {
   "cell_type": "code",
   "execution_count": null,
   "metadata": {},
   "outputs": [],
   "source": [
    "\n",
    "a = 0\n",
    "\n",
    "while True:\n",
    "    \n",
    "    a = a + 1\n",
    "    \n",
    "    check, frame = video.read()\n",
    "    cv2.imshow(\"Capturing\", frame)\n",
    "    cv2.waitKey(0)\n",
    "    video.release()\n",
    "    key=cv2.waitKey(1)\n",
    "    if key == ord ('q'):\n",
    "        break\n",
    "                   "
   ]
  },
  {
   "cell_type": "code",
   "execution_count": null,
   "metadata": {},
   "outputs": [],
   "source": [
    "#importing modules required\n",
    "import tkinter as tk\n",
    "from tkinter import *\n",
    "import cv2\n",
    "from PIL import Image, ImageTk\n",
    "import os\n",
    "import numpy as np\n",
    "\n",
    "\n",
    "global last_frame                                      #creating global variable\n",
    "last_frame = np.zeros((480, 640, 3), dtype=np.uint8)\n",
    "global cap\n",
    "cap = cv2.VideoCapture(0)\n",
    "\n",
    "def show_vid():                                        #creating a function\n",
    "    if not cap.isOpened():                             #checks for the opening of camera\n",
    "        print(\"cant open the camera\")\n",
    "    flag, frame = cap.read()\n",
    "    frame = cv2.flip(frame, 1)\n",
    "    if flag is None:\n",
    "        print(\"Major error!\")\n",
    "    elif flag:\n",
    "        global last_frame\n",
    "        last_frame = frame.copy()\n",
    "\n",
    "    pic = cv2.cvtColor(last_frame, cv2.COLOR_BGR2RGB)     #we can change the display color of the frame gray,black&white here\n",
    "    img = Image.fromarray(pic)\n",
    "    imgtk = ImageTk.PhotoImage(image=img)\n",
    "    lmain.imgtk = imgtk\n",
    "    lmain.configure(image=imgtk)\n",
    "    lmain.after(10, show_vid)\n",
    "\n",
    "if __name__ == '__main__':\n",
    "    root=tk.Tk()                                     #assigning root variable for Tkinter as tk\n",
    "    lmain = tk.Label(master=root)\n",
    "    lmain.grid(column=0, rowspan=4, padx=5, pady=5)\n",
    "    root.title(\"Sign Language Processor\")            #you can give any title\n",
    "    show_vid()\n",
    "    root.mainloop()                                  #keeps the application in an infinite loop so it works continuosly\n",
    "    cap.release()"
   ]
  },
  {
   "cell_type": "code",
   "execution_count": 6,
   "metadata": {},
   "outputs": [
    {
     "data": {
      "text/plain": [
       "True"
      ]
     },
     "execution_count": 6,
     "metadata": {},
     "output_type": "execute_result"
    }
   ],
   "source": [
    "import cv2\n",
    "video_capture = cv2.VideoCapture(0)\n",
    "# Check success\n",
    "if not video_capture.isOpened():\n",
    "    raise Exception(\"Could not open video device\")\n",
    "# Read picture. ret === True on success\n",
    "ret, frame = video_capture.read()\n",
    "# Close device\n",
    "video_capture.release()\n",
    "cv2.destroyAllWindows()\n",
    "cv2.imwrite('test001'+'.jpg',frame)\n"
   ]
  },
  {
   "cell_type": "code",
   "execution_count": 3,
   "metadata": {},
   "outputs": [
    {
     "data": {
      "text/plain": [
       "array([[[122, 141, 159],\n",
       "        [122, 141, 159],\n",
       "        [121, 142, 161],\n",
       "        ...,\n",
       "        [130, 149, 160],\n",
       "        [128, 146, 159],\n",
       "        [124, 143, 156]],\n",
       "\n",
       "       [[125, 144, 161],\n",
       "        [126, 145, 162],\n",
       "        [124, 144, 164],\n",
       "        ...,\n",
       "        [127, 146, 156],\n",
       "        [126, 146, 159],\n",
       "        [126, 146, 159]],\n",
       "\n",
       "       [[125, 143, 163],\n",
       "        [126, 144, 164],\n",
       "        [124, 144, 164],\n",
       "        ...,\n",
       "        [126, 148, 156],\n",
       "        [125, 146, 156],\n",
       "        [125, 146, 156]],\n",
       "\n",
       "       ...,\n",
       "\n",
       "       [[154, 163, 178],\n",
       "        [156, 164, 179],\n",
       "        [158, 167, 181],\n",
       "        ...,\n",
       "        [ 61,  34,  34],\n",
       "        [ 61,  34,  34],\n",
       "        [ 63,  35,  35]],\n",
       "\n",
       "       [[153, 162, 176],\n",
       "        [154, 163, 178],\n",
       "        [156, 164, 179],\n",
       "        ...,\n",
       "        [ 60,  33,  33],\n",
       "        [ 61,  34,  34],\n",
       "        [ 61,  34,  34]],\n",
       "\n",
       "       [[152, 162, 174],\n",
       "        [153, 163, 175],\n",
       "        [152, 164, 176],\n",
       "        ...,\n",
       "        [ 60,  33,  33],\n",
       "        [ 61,  34,  34],\n",
       "        [ 61,  34,  34]]], dtype=uint8)"
      ]
     },
     "execution_count": 3,
     "metadata": {},
     "output_type": "execute_result"
    }
   ],
   "source": [
    "frame"
   ]
  },
  {
   "cell_type": "code",
   "execution_count": 5,
   "metadata": {},
   "outputs": [
    {
     "data": {
      "text/plain": [
       "-1"
      ]
     },
     "execution_count": 5,
     "metadata": {},
     "output_type": "execute_result"
    }
   ],
   "source": [
    "cv2.imshow(\"test\",frame)\n",
    "cv2.waitKey(0)"
   ]
  },
  {
   "cell_type": "code",
   "execution_count": null,
   "metadata": {},
   "outputs": [],
   "source": []
  }
 ],
 "metadata": {
  "kernelspec": {
   "display_name": "Python 3",
   "language": "python",
   "name": "python3"
  },
  "language_info": {
   "codemirror_mode": {
    "name": "ipython",
    "version": 3
   },
   "file_extension": ".py",
   "mimetype": "text/x-python",
   "name": "python",
   "nbconvert_exporter": "python",
   "pygments_lexer": "ipython3",
   "version": "3.7.6"
  }
 },
 "nbformat": 4,
 "nbformat_minor": 4
}
